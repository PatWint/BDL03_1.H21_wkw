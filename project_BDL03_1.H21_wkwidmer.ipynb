{
 "cells": [
  {
   "cell_type": "markdown",
   "id": "2e8e412c",
   "metadata": {},
   "source": [
    "# TikTok Analytics\n",
    "\n",
    "Graded assignment for BDL03_1 H21 by Patrik Widmer (wkwidmer)\n",
    "\n",
    "## Summary: Project Goal\n",
    "\n",
    "\n",
    "The goal of this project is to analyze the social media platform TikTok. Social media managers and marketers need to understand what is happening on these platforms and identify the current trends. With this project, I will answer questions like the following:\n",
    "\n",
    "* Which TikTokers (users) have the most followers, which TikToks (posts) are trending right now, and which TikToks (posts) get the most views and which the most comments. \n",
    "* I will also analyze which hashtags are trending right now and from which country the most \"Top 1000 TikTokers\" come from.\n",
    "\n",
    "## Project Components\n",
    "\n",
    "This jupyter notebook will scrape data from two sources: \n",
    "* First, we will directly scrape data from tiktok.com using the \"The Unofficial TikTok API Wrapper\", which will be called using a docker image. The data from this source will be saved in the MongoDB collection \"trending\".\n",
    "* The second source is the hypeauditor.com website. This website lists the \"Top 1000 TikTokers\" globally. Since this website is powered by their own API, we will directly call their proprietary API to get the data. The data from this source will be saved in the MongoDB collection \"hypeauditor_toptiktoker\".\n",
    "\n",
    "You can see these components on the image below.\n",
    "\n"
   ]
  },
  {
   "cell_type": "markdown",
   "id": "50e392ad",
   "metadata": {},
   "source": [
    "<img src=\"https://i2.paste.pics/EFI05.png\" alt=\"Drawing\" style=\"width: 800px;\"/>\n"
   ]
  },
  {
   "cell_type": "markdown",
   "id": "0e048648",
   "metadata": {},
   "source": [
    "# Installation & Requirements \n",
    "## Step 1: Clone Git Repository"
   ]
  },
  {
   "cell_type": "code",
   "execution_count": null,
   "id": "8437bca6",
   "metadata": {},
   "outputs": [],
   "source": [
    "!pip install -r requirements.txt"
   ]
  },
  {
   "cell_type": "markdown",
   "id": "8d270d8a",
   "metadata": {},
   "source": [
    "### TikTok API Installation\n",
    "In order to use this API you need to:\n",
    "* Follow the API installation guide: https://github.com/davidteather/TikTok-Api#installing\n",
    "* Install and run Docker: https://www.docker.com/\n",
    "* Get a custom_verifyFp value:\n",
    " * This value expires after some hours. Therefore you need to manually reset it. \n",
    " * The value is issued to a specific TikTok user and needs to be extracted from a browser cookie. \n",
    " * The youtube video below explains how to extract the custom_verifyFp value.\n",
    " * Since TikTok changed their API, the custom_verifyFp value is now called: s_v_web_id value.\n",
    " * https://www.youtube.com/watch?v=zwLmLfVI-VQ&t=110s"
   ]
  },
  {
   "cell_type": "markdown",
   "id": "3862185c",
   "metadata": {},
   "source": [
    "# Imports"
   ]
  },
  {
   "cell_type": "code",
   "execution_count": null,
   "id": "92a5b902",
   "metadata": {},
   "outputs": [],
   "source": [
    "import json\n",
    "import pymongo\n",
    "import pandas as pd\n",
    "import matplotlib.pyplot as plt\n",
    "import matplotlib.dates as mdates\n",
    "import warnings\n",
    "import requests\n",
    "import numpy as np\n",
    "from pprint import pprint\n",
    "from datetime import date, timedelta\n",
    "from time import sleep\n",
    "from IPython.display import Image, HTML\n",
    "from datetime import datetime\n"
   ]
  },
  {
   "cell_type": "markdown",
   "id": "a48a9091",
   "metadata": {},
   "source": [
    "# Settings & Configuration\n"
   ]
  },
  {
   "cell_type": "markdown",
   "id": "ff782673",
   "metadata": {},
   "source": [
    "## Execution Mode\n",
    "By changing these settings, you can enable or disable parts of the code and specify what you want to do.\n",
    "\n"
   ]
  },
  {
   "cell_type": "markdown",
   "id": "dceda897",
   "metadata": {},
   "source": [
    "### Scrape Trending Tiktoks\n",
    "This mode scrapes currently trending tiktoks and stores it in the mongodb."
   ]
  },
  {
   "cell_type": "code",
   "execution_count": null,
   "id": "3a79fa06",
   "metadata": {},
   "outputs": [],
   "source": [
    "modea = []\n",
    "modea.append('get_trending_today') "
   ]
  },
  {
   "cell_type": "markdown",
   "id": "ed99ea05",
   "metadata": {},
   "source": [
    "### Scrape Hypeauditor\n",
    "This mode resets the hypeauditor collection, scraptes the current Top 1000 TikTokers from the Hypeauditor website and stores it in mongodb.\n"
   ]
  },
  {
   "cell_type": "code",
   "execution_count": null,
   "id": "3f1c8db6",
   "metadata": {},
   "outputs": [],
   "source": [
    "modea.append('hypeauditor_scrape') "
   ]
  },
  {
   "cell_type": "markdown",
   "id": "dfb9f89a",
   "metadata": {},
   "source": [
    "### Analytics\n",
    "This Mode activates the TikTok Analytics part."
   ]
  },
  {
   "cell_type": "code",
   "execution_count": null,
   "id": "2e75be39",
   "metadata": {},
   "outputs": [],
   "source": [
    "modea.append('tiktok_analytics') "
   ]
  },
  {
   "cell_type": "markdown",
   "id": "c1bf4a7b",
   "metadata": {},
   "source": [
    "### Debug\n",
    "This mode activates advanced output for debuging."
   ]
  },
  {
   "cell_type": "code",
   "execution_count": null,
   "id": "2797e8a9",
   "metadata": {},
   "outputs": [],
   "source": [
    "modea.append('debug') "
   ]
  },
  {
   "cell_type": "markdown",
   "id": "b70a3c09",
   "metadata": {},
   "source": [
    "### ResetDB\n",
    "I do <font color='red'> __not recommend__ </font> resetting the entire database as you will   <font color='red'> __lose historical data that cannot be recovered__ </font> or scraped again. Charts such as trending tiktoks will not show any data because for this you need to data over several days. \n",
    "\n",
    "However, if you run this notebook in the  __get_trending_today__ mode,  <font color='green'> today's data will be added to the database. </font>\n"
   ]
  },
  {
   "cell_type": "code",
   "execution_count": null,
   "id": "52266af6",
   "metadata": {},
   "outputs": [],
   "source": [
    "# reset_db"
   ]
  },
  {
   "cell_type": "markdown",
   "id": "1cbe61d6",
   "metadata": {},
   "source": [
    "### Review\n",
    "Review the activated modes: "
   ]
  },
  {
   "cell_type": "code",
   "execution_count": null,
   "id": "e9761bec",
   "metadata": {},
   "outputs": [],
   "source": [
    "### Review\n",
    "mode = set(modea)\n",
    "pprint(mode)"
   ]
  },
  {
   "cell_type": "markdown",
   "id": "8c145872",
   "metadata": {},
   "source": [
    "## Global Settings"
   ]
  },
  {
   "cell_type": "code",
   "execution_count": null,
   "id": "5d1f6e43",
   "metadata": {},
   "outputs": [],
   "source": [
    "mongodb_username = \"\"\n",
    "mongodb_pw = \"\""
   ]
  },
  {
   "cell_type": "markdown",
   "id": "143157f5",
   "metadata": {},
   "source": [
    "## TikTok Scraper Settings"
   ]
  },
  {
   "cell_type": "code",
   "execution_count": null,
   "id": "f2422b80",
   "metadata": {},
   "outputs": [],
   "source": [
    "# Nr of TikToks to scrape\n",
    "# You will be blocked by TikTok if you scrape too many\n",
    "scrape_nr_results = 57 #bookmark\n",
    "\n",
    "# Tiktok Token (please read the TikTok API Installation chapter bellow)\n",
    "custom_verifyFp_settings = \"verify_kupjggmp_......\"\n"
   ]
  },
  {
   "cell_type": "markdown",
   "id": "263be502",
   "metadata": {},
   "source": [
    "## Hypeauditor Scraper Settings"
   ]
  },
  {
   "cell_type": "code",
   "execution_count": null,
   "id": "b2e41989",
   "metadata": {},
   "outputs": [],
   "source": [
    "nr_pages = 3 # page max is 20\n",
    "min_sleep_seconds = 1  # pause between api calls, minimum pause in seconds\n",
    "max_sleep_seconds = 15 # pause between api calls, minimum pause in seconds\n",
    "hypeauditor_api_url = \"https://hypeauditor.com/tiktok/getRankingData/?p=\""
   ]
  },
  {
   "cell_type": "markdown",
   "id": "4b3f3b7a",
   "metadata": {},
   "source": [
    "# General\n",
    "## Connection to Mongo DB"
   ]
  },
  {
   "cell_type": "code",
   "execution_count": null,
   "id": "bf366c93",
   "metadata": {},
   "outputs": [],
   "source": [
    "client = pymongo.MongoClient(\"mongodb+srv://\" + mongodb_username + \":\" + mongodb_pw + \"@cluster0.t9sw1.mongodb.net/test\" ,)\n",
    "db = client['tiktok']"
   ]
  },
  {
   "cell_type": "markdown",
   "id": "f8f777ee",
   "metadata": {},
   "source": [
    "## Functions\n",
    "### Mongo DB Functions"
   ]
  },
  {
   "cell_type": "code",
   "execution_count": null,
   "id": "8c741f8b",
   "metadata": {},
   "outputs": [],
   "source": [
    "def drop_collection(collections):\n",
    "    for collection in collections:\n",
    "        print(\"~\" * 100)\n",
    "        print(\"Run: Drop Collection:\", collection )\n",
    "        print(\"Docs in collection before drop:\", db[collection].count_documents({}))\n",
    "\n",
    "        db.drop_collection(collection)\n",
    "        print(\"Docs in collection after drop:\", db[collection].count_documents({}))\n",
    "\n",
    "def mongodb_insert_many(collection, data):\n",
    "    print(\"~\" * 100)\n",
    "    print(\"Write Data to Collection:\", collection )\n",
    "    print(\"Number of:\" , collection , \"documents before write: \" ,db[collection].count_documents({}))\n",
    "    db.trending.insert_many(trending_transformed)\n",
    "    print(\"Number of:\" , collection , \"documents after write: \" ,db[collection].count_documents({}))\n"
   ]
  },
  {
   "cell_type": "markdown",
   "id": "15ad510d",
   "metadata": {},
   "source": [
    "### Helper Functions"
   ]
  },
  {
   "cell_type": "code",
   "execution_count": null,
   "id": "e969f552",
   "metadata": {},
   "outputs": [],
   "source": [
    "# This function returns a date als integers\n",
    "def get_date_as_int(date_datetime):    \n",
    "    today_d = int(date_datetime.strftime(\"%d\"))\n",
    "    today_m = int(date_datetime.strftime(\"%m\"))\n",
    "    today_y = int(date_datetime.strftime(\"%Y\"))\n",
    "    \n",
    "    return today_d, today_m, today_y\n",
    "        \n",
    "today_d, today_m, today_y = get_date_as_int(date.today())"
   ]
  },
  {
   "cell_type": "markdown",
   "id": "175bd0e2",
   "metadata": {},
   "source": [
    "# Reset DB \n",
    "## Reset DB Mode\n",
    "\n",
    "I do <font color='red'> __not recommend__ </font> resetting the entire database as you will   <font color='red'> __lose historical data that cannot be recovered__ </font> or scraped again. Charts such as trending tiktoks will not show any data because for this you need to data over several days. \n",
    "\n",
    "However, if you run this notebook in the  __get_trending_today__ mode,  <font color='green'> today's data will be added to the database. </font>\n",
    "\n",
    "The reset_db mode will drop all/the following collections:\n",
    "- trending\n",
    "- hypeauditor_toptiktoker\n"
   ]
  },
  {
   "cell_type": "code",
   "execution_count": null,
   "id": "4f992d8c",
   "metadata": {},
   "outputs": [],
   "source": [
    "if 'reset_db' in mode:\n",
    "    drop_collection_list = []\n",
    "    drop_collection_list.append(\"trending\")\n",
    "    drop_collection_list.append(\"hypeauditor_toptiktoker\")\n",
    "\n",
    "    drop_collection(drop_collection_list)\n"
   ]
  },
  {
   "cell_type": "markdown",
   "id": "70ab71a5",
   "metadata": {},
   "source": [
    "# ELT\n",
    "## TikTok API\n",
    "\n",
    "To retrieve data directly from https://www.tiktok.com, I use \"The Unofficial TikTok API Wrapper\" by David Teather.\n",
    "You can find the library on GitHub: https://github.com/davidteather/TikTok-Api. Since I made minor changes, you should follow the installation instructions above to use the TikTok API Wrapper in this project. \n",
    "\n",
    "\n",
    "\n",
    "##  Trending Tiktoks\n",
    "### Mode: get_trending_today\n",
    "\n",
    "In order to get as many Trending Tiktoks as possible per day, the following __strategy__ will be used:\n",
    "* We run the jupyter notebook in the __get_trending_today mode__ multiple times per day. This will always call the TikTok API and we get back a list of the current trending TikToks (posts). \n",
    "    1. TikTok always returns a different list of trending TikToks posts. When we call the API again, we get back a mixed list of TikTok posts that we haven't seen yet, but also TikTok posts that we have already seen in a previous call. \n",
    "    2. We always write the full list of TikToks including duplicates to the DB. This will cause duplicate entries. But we will remove them later using a MongoDB pipeline to identify the duplicates. \n",
    "    3. We delete the duplicates\n",
    "\n",
    "\n",
    "### Fetch data: API Call Trending Tiktoks\n",
    " "
   ]
  },
  {
   "cell_type": "code",
   "execution_count": null,
   "id": "29ec0740",
   "metadata": {},
   "outputs": [],
   "source": [
    "if 'get_trending_today' in mode:\n",
    "    custom_verifyFp = custom_verifyFp_settings\n",
    "    api_return_filename = \"api_trending_return.json\"\n"
   ]
  },
  {
   "cell_type": "markdown",
   "id": "20451153",
   "metadata": {},
   "source": [
    "Since the TikTok API uses the Playwright Async API and not the asyncio loop like jupyter notebook, this causes an error inside a jupyter notebook. For this reason, I am running the actual API Call from a seperate python script outside of jupyter notebook.\n"
   ]
  },
  {
   "cell_type": "code",
   "execution_count": null,
   "id": "5bf47581",
   "metadata": {},
   "outputs": [],
   "source": [
    "if 'get_trending_today' in mode:\n",
    "    !ipython ./TikTokApi/api_call_trending.py {scrape_nr_results} {custom_verifyFp} {api_return_filename}"
   ]
  },
  {
   "cell_type": "markdown",
   "id": "58e1ad28",
   "metadata": {},
   "source": [
    "* Check Data from the TikTok API Scraper \n",
    "* Add a scrapeDate so that we later know when the Tiktok was trending."
   ]
  },
  {
   "cell_type": "code",
   "execution_count": null,
   "id": "77b13bae",
   "metadata": {},
   "outputs": [],
   "source": [
    "if 'get_trending_today' in mode:\n",
    "    with open(api_return_filename) as json_file:\n",
    "        trending = json.load(json_file)\n",
    "        \n",
    "    trending_transformed = []\n",
    "    \n",
    "    print_limit= 3\n",
    "    print_counter = 0\n",
    "    \n",
    "    print(\"Print first:\" , print_limit , \"trending TikToks:\")\n",
    "    print(\"-\" * 80)   \n",
    "\n",
    "    for tiktok in trending:\n",
    "         \n",
    "        print_counter += 1\n",
    "        \n",
    "        #date = date.today() #add current date as scrapeDate\n",
    "        date = datetime.today()\n",
    "\n",
    "        tiktok[\"scrapeDate\"] = date\n",
    "        \n",
    "        if( print_counter < print_limit):\n",
    "            print(\"print_counter\" , print_counter)\n",
    "            print(\"des: \" , tiktok['desc']) # tiktok description\n",
    "            print(\"id: \" , tiktok['id']) # tiktok id \n",
    "            print(\"scrapeDate:\", tiktok[\"scrapeDate\"]) # tiktok scrapeDate \n",
    "\n",
    "            # print tiktok hashtags \n",
    "            if \"textExtra\" in tiktok:\n",
    "                for e in tiktok['textExtra']:\n",
    "                    print(\"-\" , e['hashtagName'])\n",
    "            else:\n",
    "                print(\"Tiktok has no textExtra\")\n",
    "            print(\"-\" * 80) \n",
    "            \n",
    "        trending_transformed.append(tiktok)\n",
    "    nr_scraped_tiktoks = len(trending)\n",
    "    print(\"Number of trending TikToks scraped: \" ,nr_scraped_tiktoks)\n",
    "    print(\"-\" * 80) \n"
   ]
  },
  {
   "cell_type": "markdown",
   "id": "ba677981",
   "metadata": {},
   "source": [
    "### Insert into MongoDB: Trending TikToks"
   ]
  },
  {
   "cell_type": "code",
   "execution_count": null,
   "id": "54344a0c",
   "metadata": {},
   "outputs": [],
   "source": [
    "if 'get_trending_today' in mode:\n",
    "    if(len(trending) > 0):\n",
    "        mongodb_insert_many(\"trending\" , trending_transformed)\n",
    "    "
   ]
  },
  {
   "cell_type": "markdown",
   "id": "f7786b59",
   "metadata": {},
   "source": [
    "### Find duplicates \n",
    "\n",
    "When a TikTok (post) is trending for multiple days, it does not count as a duplicate. A duplicate is a scraped TikTok (post) on the same day. We use the following __strategy__ to find duplicates:\n",
    "* Filter documents for scrapeDate today\n",
    "* Find documents which have the same id *(not _id)*\n",
    "\n",
    "Note: \n",
    "* The key: id is issued by tiktok.com and is the official id of this TikTok (post).\n",
    "* The key: _id is the document key of MongoDB"
   ]
  },
  {
   "cell_type": "code",
   "execution_count": null,
   "id": "982bb424",
   "metadata": {},
   "outputs": [],
   "source": [
    "def find_duplicate_trending(filter_date):\n",
    "    \n",
    "    today_d, today_m, today_y = get_date_as_int(filter_date)\n",
    "    \n",
    "    # find duplicats of trending tiktoks in db using a pipeline\n",
    "\n",
    "    pipeline = [\n",
    "        {\n",
    "            '$match': {\n",
    "                'scrapeDate': {\n",
    "                    '$gte': datetime(today_y, today_m, today_d, 0, 0, 0), \n",
    "                    '$lt': datetime(today_y, today_m, (today_d + 1), 0, 0, 0)\n",
    "                }\n",
    "            }\n",
    "        }, {\n",
    "            '$project': {\n",
    "                '_id': 1, \n",
    "                'id': 1\n",
    "            }\n",
    "        }, {\n",
    "            '$group': {\n",
    "                '_id': '$id', \n",
    "                'count': {\n",
    "                    '$sum': 1\n",
    "                }\n",
    "            }\n",
    "        }, {\n",
    "            '$match': {\n",
    "                'count': {\n",
    "                    '$gte': 2\n",
    "                }\n",
    "            }\n",
    "        }\n",
    "    ]\n",
    "\n",
    "\n",
    "    duplicates = []\n",
    "\n",
    "    for d in db.trending.aggregate(pipeline):\n",
    "        duplicates.append(d)\n",
    "\n",
    "    duplicates_clean = []\n",
    "    for duplicate in duplicates:\n",
    "        duplicates_clean.append(duplicate[\"_id\"])\n",
    "\n",
    "    return duplicates_clean\n",
    "\n",
    "\n",
    "def get_delete_list_trendingdocs(duplicates): \n",
    "    # Prepare list with _id's to delete\n",
    "    \n",
    "    \n",
    "    all_pipeline_docs = []\n",
    "    delete_list = []\n",
    "    keep_docs_list = []\n",
    "    uniqe_socialid_list = []\n",
    "\n",
    "\n",
    "    for d in db.trending.find( {\"id\": {\"$in\": duplicates }}, { \"_id\" : 1 , \"id\" :1} ):\n",
    "        all_pipeline_docs.append(d)\n",
    "        if d[\"id\"] in uniqe_socialid_list:\n",
    "            delete_list.append(d[\"_id\"])\n",
    "        else:\n",
    "            uniqe_socialid_list.append(d[\"id\"])\n",
    "            keep_docs_list.append(d[\"_id\"])\n",
    "\n",
    "    return delete_list\n",
    "\n",
    "if 'get_trending_today' in mode:\n",
    "    delete_list = get_delete_list_trendingdocs(find_duplicate_trending(date.today()))"
   ]
  },
  {
   "cell_type": "markdown",
   "id": "44ac8d21",
   "metadata": {},
   "source": [
    "### Delete duplicates \n"
   ]
  },
  {
   "cell_type": "code",
   "execution_count": null,
   "id": "e2e9761d",
   "metadata": {},
   "outputs": [],
   "source": [
    "def delete_documents_by_list(delete_list, collectionstr):\n",
    "    delete_filter = {\"_id\":{\"$in\":delete_list}}\n",
    "\n",
    "    nr_total_trending_before_delete = db[collectionstr].count_documents({})\n",
    "    nr_docs_to_delete = db[collectionstr].count_documents(delete_filter)\n",
    "\n",
    "    if 'debug' in mode:\n",
    "        print(\"Delete duplicates:\" , \"-\" * 80) \n",
    "        print(\"Docs in \", collectionstr , \" before delete: \", nr_total_trending_before_delete)\n",
    "        print(\"Delete docs in\" , collectionstr , nr_docs_to_delete)\n",
    "        print(\"Start delete\")\n",
    "\n",
    "    db[collectionstr].delete_many(delete_filter) # delete duplicate documents\n",
    "\n",
    "    nr_total_trending_after_delete = db[collectionstr].count_documents({})\n",
    "\n",
    "    if 'debug' in mode:\n",
    "        print(\"Target number of docs after delete: \", nr_total_trending_before_delete - nr_docs_to_delete)\n",
    "        print(\"Docs in\" , collectionstr , \" after delete: \", nr_total_trending_after_delete)\n",
    "        if( nr_total_trending_before_delete - nr_docs_to_delete == nr_total_trending_after_delete):\n",
    "            print(\"Correct number of docs deleted.\")\n",
    "        else:\n",
    "            print(\"Wrong number of docs deleted.\")\n",
    "    return nr_docs_to_delete\n",
    "\n",
    "if 'get_trending_today' in mode:\n",
    "    print(\"Scraped TikToks:\", nr_scraped_tiktoks)\n",
    "    nr_docs_to_deleted = delete_documents_by_list(delete_list, \"trending\")    \n",
    "    print(\"Percentage of duplicates in Scraped TikToks:\", nr_docs_to_deleted /nr_scraped_tiktoks)"
   ]
  },
  {
   "cell_type": "markdown",
   "id": "62f959de",
   "metadata": {},
   "source": [
    "## Hypeauditor Top 1000 TikTokers\n",
    "\n",
    "Since we only receive a tiny fraction of all TikToks (posts) worldwide, we only know which TikToks are trending for our user in Switzerland. To get a global overview, we need to scrape tiktok.com with multiple accounts from multiple IP locations. Since this is beyond the scope of this project, we scrape an API from Hypeauditor which provides us with the top 1000 TikTokers (users). We can later use this information to get more data about the top TikTokers directly from toktok.com using \"The Unofficial TikTok API Wrapper\".\n"
   ]
  },
  {
   "cell_type": "markdown",
   "id": "d4198bbb",
   "metadata": {},
   "source": [
    "### Remove all existing documents -> Reset collection"
   ]
  },
  {
   "cell_type": "code",
   "execution_count": null,
   "id": "46de0872",
   "metadata": {},
   "outputs": [],
   "source": [
    "# clear hypeauditor_toptiktoker colleciton\n",
    "if 'hypeauditor_scrape' in mode:  \n",
    "    drop_collection_list = []\n",
    "    drop_collection_list.append(\"hypeauditor_toptiktoker\")\n",
    "    drop_collection(drop_collection_list)\n",
    "\n",
    "    "
   ]
  },
  {
   "cell_type": "markdown",
   "id": "41ea0183",
   "metadata": {},
   "source": [
    "### Fetch Data: Hypeauditor"
   ]
  },
  {
   "cell_type": "code",
   "execution_count": null,
   "id": "a4777fc1",
   "metadata": {},
   "outputs": [],
   "source": [
    "def hypeauditor_api_call(page_counter, url):\n",
    "    # Scrape the API of the hypeauditor website: https://hypeauditor.com/top-tiktok/\n",
    "    full_request_url = f'{url}{page_counter}'\n",
    "    print(\"Calling: \", full_request_url)\n",
    "\n",
    "    payload = {}\n",
    "    headers = {\n",
    "        'authority': 'hypeauditor.com',\n",
    "        'pragma': 'no-cache',\n",
    "        'cache-control': 'no-cache',\n",
    "        'sec-ch-ua': '\"Chromium\";v=\"94\", \"Google Chrome\";v=\"94\", \";Not A Brand\";v=\"99\"',\n",
    "        'accept': 'application/json, text/plain, */*',\n",
    "        'x-requested-with': 'XMLHttpRequest',\n",
    "        'sec-ch-ua-mobile': '?0',\n",
    "        'user-agent': 'Mozilla/5.0 (Macintosh; Intel Mac OS X 10_15_7) AppleWebKit/537.36 (KHTML, like Gecko) Chrome/94.0.4606.81 Safari/537.36',\n",
    "        'sec-ch-ua-platform': '\"macOS\"',\n",
    "        'sec-fetch-site': 'same-origin',\n",
    "        'sec-fetch-mode': 'cors',\n",
    "        'sec-fetch-dest': 'empty',\n",
    "        'referer': 'https://hypeauditor.com/top-tiktok?p=1',\n",
    "        'accept-language': 'en-GB,en-US;q=0.9,en;q=0.8,de;q=0.7',\n",
    "        'Cookie': 'kyb-account=1388226; kyb-last-login=refresh; kyb-hash=%242y%2404%24Xfg3Dtl8FsqoSiri0Vkm9OBi9AUDwt5lRmsUxQiCVMbuuPFCPDpSe; PHPSESSID=09d8d49eb5034c31d656262df7304a08; dd=16'\n",
    "    }\n",
    "\n",
    "    response = requests.request(\"GET\", full_request_url, headers=headers, data=payload)\n",
    "    response_json = response.json()\n",
    "\n",
    "    return response_json[\"result\"]"
   ]
  },
  {
   "cell_type": "code",
   "execution_count": null,
   "id": "71f557cf",
   "metadata": {},
   "outputs": [],
   "source": [
    "# Call hypeauditor API multiple times for all the subpages \n",
    "# Visite this url to get an example: https://hypeauditor.com/top-tiktok/\n",
    "if 'hypeauditor_scrape' in mode:\n",
    "    top_tiktoker_pages_list = []\n",
    "    for page_counter in range(1, nr_pages + 1):\n",
    "        toptiktoker_page = hypeauditor_api_call(page_counter, hypeauditor_api_url)\n",
    "        # get all information from website\n",
    "        top_tiktoker_pages_list.append(toptiktoker_page)\n",
    "\n",
    "        #sleep if page_counter is not last page\n",
    "        if(nr_pages  != page_counter):\n",
    "            sleep_randint = np.random.randint(min_sleep_seconds, max_sleep_seconds)\n",
    "            print(\"Sleep seconds: \" , sleep_randint)\n",
    "            sleep(sleep_randint)\n",
    "\n",
    "    # extract tiktoker information from website data\n",
    "    top_tiktoker_list = []\n",
    "\n",
    "    for page in top_tiktoker_pages_list:\n",
    "        for tiktoker in page:\n",
    "            top_tiktoker_list.append(tiktoker)\n",
    "            #print(tiktoker)\n",
    "\n",
    "    \n"
   ]
  },
  {
   "cell_type": "markdown",
   "id": "8e748540",
   "metadata": {},
   "source": [
    "### Insert into MongoDB: Hypeauditor Data"
   ]
  },
  {
   "cell_type": "code",
   "execution_count": null,
   "id": "e57ca0ec",
   "metadata": {},
   "outputs": [],
   "source": [
    "if 'hypeauditor_scrape' in mode:\n",
    "    # write top tiktoker to mongo db\n",
    "    print(\"Number of top TikToker in db before write:\" ,db.hypeauditor_toptiktoker.count_documents({}))\n",
    "    db.hypeauditor_toptiktoker.insert_many(top_tiktoker_list)\n",
    "    print(\"Number of top TikToker in db after write:\" ,db.hypeauditor_toptiktoker.count_documents({}))"
   ]
  },
  {
   "cell_type": "markdown",
   "id": "0c5297e6",
   "metadata": {},
   "source": [
    "# Data Analysis\n"
   ]
  },
  {
   "cell_type": "markdown",
   "id": "f8360fa2",
   "metadata": {},
   "source": [
    "## Trending TikToks (Switzerland)\n",
    "\n",
    "Analysis of scraped trending TikToks with a Swiss TikTok Account and a Swiss IP location.\n",
    "\n"
   ]
  },
  {
   "cell_type": "code",
   "execution_count": null,
   "id": "184fa716",
   "metadata": {},
   "outputs": [],
   "source": [
    "# Query and group the hashtags from mongodb using a pipeline\n",
    "if 'tiktok_analytics' in mode: \n",
    "    today_d, today_m, today_y = get_date_as_int(date.today())\n",
    "\n",
    "    pipeline =  [\n",
    "        {\n",
    "            '$match': {\n",
    "                'scrapeDate': {\n",
    "                    '$gte': datetime(today_y, today_m, today_d, 0, 0, 0), \n",
    "                    '$lt': datetime(today_y, today_m, (today_d + 1), 0, 0, 0),\n",
    "                }\n",
    "            }\n",
    "        }, {\n",
    "            '$project': {\n",
    "                '_id': 0, \n",
    "                'textExtra.hashtagName': 1, \n",
    "                'textExtra.hashtagId': 1\n",
    "            }\n",
    "        }, {\n",
    "            '$unwind': {\n",
    "                'path': '$textExtra'\n",
    "            }\n",
    "        }, {\n",
    "            '$replaceWith': {\n",
    "                'hashtagName': '$textExtra.hashtagName', \n",
    "                'hashtagId': '$textExtra.hashtagId'\n",
    "            }\n",
    "        }, {\n",
    "            '$group': {\n",
    "                '_id': {\n",
    "                    'hashtagId': '$hashtagId', \n",
    "                    'hashtagName': '$hashtagName'\n",
    "                }, \n",
    "                'count': {\n",
    "                    '$sum': 1\n",
    "                }\n",
    "            }\n",
    "        }, {\n",
    "            '$sort': {\n",
    "                'count': -1\n",
    "            }\n",
    "        }, {\n",
    "            '$replaceWith': {\n",
    "                'hashtagName': '$_id.hashtagName', \n",
    "                'hashtagId': '$_id.hashtagId', \n",
    "                'count': '$count'\n",
    "            }\n",
    "        \n",
    "        }, {\n",
    "            '$match': {\n",
    "                '$and': [\n",
    "                    {\n",
    "                        'hashtagName': {\n",
    "                            '$ne': ''\n",
    "                        }\n",
    "                    }\n",
    "                    \n",
    "                ]\n",
    "            }\n",
    "        }, {\n",
    "            '$limit': 50\n",
    "        }\n",
    "    ]\n",
    "    if False:\n",
    "        if 'debug' in mode:\n",
    "            for d in db.trending.aggregate(pipeline):\n",
    "                print(d)\n",
    "\n",
    "    df_hashtags = pd.DataFrame.from_dict(db.trending.aggregate(pipeline))\n",
    "\n",
    "    \n",
    "    "
   ]
  },
  {
   "cell_type": "markdown",
   "id": "0f4babea",
   "metadata": {},
   "source": [
    "### Hashtags in Trending Tiktoks"
   ]
  },
  {
   "cell_type": "code",
   "execution_count": null,
   "id": "d5b24892",
   "metadata": {},
   "outputs": [],
   "source": [
    "if 'debug' in mode:\n",
    "    display(df_hashtags.head(15))\n",
    "\n",
    "    # Visualize the Hashtags\n",
    "    # Note: Some Hashtags contain glyph icons. These will be aggregated as seperate hashtags,\n",
    "    # but not shown in the chart bellow\n",
    "    warnings.filterwarnings('ignore') # Jupyter can't show glyph icons, ignore warning"
   ]
  },
  {
   "cell_type": "markdown",
   "id": "acf0bac8",
   "metadata": {},
   "source": [
    "#### Barchart: Hashtags used in today's trending Tiktoks\n",
    "The barchart bellow shows the most used hashtags in trending TikToks (posts)."
   ]
  },
  {
   "cell_type": "code",
   "execution_count": null,
   "id": "0f224ce1",
   "metadata": {},
   "outputs": [],
   "source": [
    "if 'tiktok_analytics' in mode and len(df_hashtags) > 0: \n",
    "    plt.figure();\n",
    "    plt.rcParams['figure.figsize'] = [15, 5]\n",
    "\n",
    "    df_hashtags.iloc[0:30].plot(title=\"Trending Hashtags as of \" + str(today_d) + \".\" + str(today_m) + \".\"+ str(today_y) , kind=\"bar\" , x='hashtagName');\n",
    "    plt.axhline(0, color=\"k\");"
   ]
  },
  {
   "cell_type": "markdown",
   "id": "81f382d8",
   "metadata": {},
   "source": [
    "### #switzerland related hashtags\n",
    "\n"
   ]
  },
  {
   "cell_type": "code",
   "execution_count": null,
   "id": "f4b91ca8",
   "metadata": {},
   "outputs": [],
   "source": [
    "if 'tiktok_analytics' in mode:\n",
    "\n",
    "    pipeline = [\n",
    "        {\n",
    "            '$project': {\n",
    "                '_id': 0, \n",
    "                'textExtra.hashtagName': 1, \n",
    "                'textExtra.hashtagId': 1\n",
    "            }\n",
    "        }, {\n",
    "            '$match': {\n",
    "                '$or': [\n",
    "                    {\n",
    "                        'textExtra.hashtagName': {\n",
    "                            '$eq': 'switzerland'\n",
    "                        }\n",
    "                    }, {\n",
    "                        'textExtra.hashtagName': {\n",
    "                            '$eq': 'schweiz'\n",
    "                        }\n",
    "                    }, {\n",
    "                        'textExtra.hashtagName': {\n",
    "                            '$eq': 'schwiz'\n",
    "                        }\n",
    "                    }, {\n",
    "                        'textExtra.hashtagName': {\n",
    "                            '$eq': 'suisse'\n",
    "                        }\n",
    "                    }, {\n",
    "                        'textExtra.hashtagName': {\n",
    "                            '$eq': 'swiss'\n",
    "                        }\n",
    "                    }, {\n",
    "                        'textExtra.hashtagName': {\n",
    "                            '$eq': 'svizzera'\n",
    "                        }\n",
    "                    }, {\n",
    "                        'textExtra.hashtagName': {\n",
    "                            '$eq': '🇨🇭'\n",
    "                        }\n",
    "                    }\n",
    "                ]\n",
    "            }\n",
    "        }, {\n",
    "            '$unwind': {\n",
    "                'path': '$textExtra'\n",
    "            }\n",
    "        }, {\n",
    "            '$replaceWith': {\n",
    "                'hashtagName': '$textExtra.hashtagName', \n",
    "                'hashtagId': '$textExtra.hashtagId'\n",
    "            }\n",
    "        }, {\n",
    "            '$group': {\n",
    "                '_id': {\n",
    "                    'hashtagId': '$hashtagId', \n",
    "                    'hashtagName': '$hashtagName'\n",
    "                }, \n",
    "                'count': {\n",
    "                    '$sum': 1\n",
    "                }\n",
    "            }\n",
    "        }, {\n",
    "            '$sort': {\n",
    "                'count': -1\n",
    "            }\n",
    "        }, {\n",
    "            '$replaceWith': {\n",
    "                'hashtagName': '$_id.hashtagName', \n",
    "                'hashtagId': '$_id.hashtagId', \n",
    "                'count': '$count'\n",
    "            }\n",
    "        }, {\n",
    "            '$match': {\n",
    "                '$and': [\n",
    "                    {\n",
    "                        'hashtagName': {\n",
    "                            '$ne': 'switzerland'\n",
    "                        }\n",
    "                    }, {\n",
    "                        'hashtagName': {\n",
    "                            '$ne': 'schweiz'\n",
    "                        }\n",
    "                    }, {\n",
    "                        'hashtagName': {\n",
    "                            '$ne': 'schwiz'\n",
    "                        }\n",
    "                    }, {\n",
    "                        'hashtagName': {\n",
    "                            '$ne': 'switzerland'\n",
    "                        }\n",
    "                    }, {\n",
    "                        'hashtagName': {\n",
    "                            '$ne': 'suisse'\n",
    "                        }\n",
    "                    }, {\n",
    "                        'hashtagName': {\n",
    "                            '$ne': 'swiss'\n",
    "                        }\n",
    "                    }, {\n",
    "                        'hashtagName': {\n",
    "                            '$ne': 'svizzera'\n",
    "                        }\n",
    "                    }, {\n",
    "                        'hashtagName': {\n",
    "                            '$ne': '🇨🇭'\n",
    "                        }\n",
    "                    }, {\n",
    "                        'hashtagName': {\n",
    "                            '$ne': 'fyp'\n",
    "                        }\n",
    "                    }, {\n",
    "                        'hashtagName': {\n",
    "                            '$ne': 'foryou'\n",
    "                        }\n",
    "                    }, {\n",
    "                        'hashtagName': {\n",
    "                            '$ne': '4u'\n",
    "                        }\n",
    "                    }, {\n",
    "                        'hashtagName': {\n",
    "                            '$ne': 'fy'\n",
    "                        }\n",
    "                    }, {\n",
    "                        'hashtagName': {\n",
    "                            '$ne': 'fypage'\n",
    "                        }\n",
    "                    }, {\n",
    "                        'hashtagName': {\n",
    "                            '$ne': 'viral'\n",
    "                        }\n",
    "                    }, {\n",
    "                        'hashtagName': {\n",
    "                            '$ne': 'goviral'\n",
    "                        }\n",
    "                    }, {\n",
    "                        'hashtagName': {\n",
    "                            '$ne': 'trend'\n",
    "                        }\n",
    "                     }, {\n",
    "                        'hashtagName': {\n",
    "                            '$ne': 'pourtoi'\n",
    "                        }\n",
    "                     }, {\n",
    "                        'hashtagName': {\n",
    "                            '$ne': 'fürdich'\n",
    "                        }\n",
    "                    }, {\n",
    "                        'hashtagName': {\n",
    "                            '$ne': 'fypシ'\n",
    "                        }\n",
    "                    }, {\n",
    "                        'hashtagName': {\n",
    "                            '$ne': 'fanpage'\n",
    "                        }\n",
    "                    }, {\n",
    "                        'hashtagName': {\n",
    "                            '$ne': 'foryoupage'\n",
    "                        }\n",
    "                    }, {\n",
    "                        'hashtagName': {\n",
    "                            '$ne': 'fypp'\n",
    "                        }\n",
    "                    }, {\n",
    "                        'hashtagName': {\n",
    "                            '$ne': ''\n",
    "                        }\n",
    "                    }\n",
    "                ]\n",
    "            }\n",
    "        }, {\n",
    "            '$limit': 100\n",
    "        }\n",
    "    ]\n",
    "    \n",
    "    df_hashtags_sw  = pd.DataFrame.from_dict(db.trending.aggregate(pipeline))\n",
    "    \n",
    "\n",
    "    display(df_hashtags_sw.iloc[0:10])\n"
   ]
  },
  {
   "cell_type": "markdown",
   "id": "4cef552a",
   "metadata": {},
   "source": [
    "#### Barchart:  #switzerland related hashtags\n",
    "\n",
    "\n",
    "This chart shows which hashtags are used together with the #switzerland hashtag and how often (count). \n",
    "Excluded hashtags:\n",
    "* #Switzerland related hashtags\n",
    "* #FYPage related hashtags\n",
    "* #Viral related hashtags"
   ]
  },
  {
   "cell_type": "code",
   "execution_count": null,
   "id": "0d09c33c",
   "metadata": {
    "code_folding": []
   },
   "outputs": [],
   "source": [
    "if 'tiktok_analytics' in mode and len(df_hashtags_sw) > 0: \n",
    "    plt.figure();\n",
    "    plt.rcParams['figure.figsize'] = [20,10]\n",
    "    df_hashtags_sw.iloc[0:40].plot(title=\"#switzerland related hashtags \" , kind=\"bar\" , x='hashtagName', ylabel=\"count\" );\n",
    "    plt.axhline(0, color=\"k\");"
   ]
  },
  {
   "cell_type": "markdown",
   "id": "c77e530e",
   "metadata": {},
   "source": [
    "### Trending Tiktoks \n",
    "\n",
    "#### Helper Function"
   ]
  },
  {
   "cell_type": "code",
   "execution_count": null,
   "id": "c141260e",
   "metadata": {},
   "outputs": [],
   "source": [
    "# This function uses a pipeline to get the trending users from mongodb\n",
    "# The function will sort the results according to (function argument: sort_field) directly on the database\n",
    "# as well as limit the number of records (functionargument: limit_nr)also directly on the database\n",
    "if 'tiktok_analytics' in mode: \n",
    "    def pipeline_trending_tiktoks_by(sort_field, asof_date, limit_nr= 10):\n",
    "        today_d, today_m, today_y = get_date_as_int(asof_date)\n",
    "\n",
    "        pipeline = [\n",
    "            {\n",
    "                '$match': {\n",
    "                    'scrapeDate': {\n",
    "                        '$gte': datetime(today_y, today_m, today_d, 0, 0, 0), \n",
    "                        '$lt': datetime(today_y, today_m, (today_d + 1), 0, 0, 0),\n",
    "                    }\n",
    "                }\n",
    "            }, {\n",
    "                '$project': {\n",
    "                    'id': 1, \n",
    "                    'desc': 1, \n",
    "                    'video.dynamicCover': 1, \n",
    "                    'video.playAddr': 1, \n",
    "                    'stats': 1, \n",
    "                    'author.id': 1, \n",
    "                    'author.nickname': 1,\n",
    "                    'scrapeDate': 1\n",
    "                }\n",
    "            }, {\n",
    "                '$replaceWith': {\n",
    "                    'desc': '$desc', \n",
    "                    'id': '$id', \n",
    "                    'authorNickname': '$author.nickname', \n",
    "                    'playCount': '$stats.playCount', \n",
    "                    'shareCount': '$stats.shareCount', \n",
    "                    'commentCount': '$stats.commentCount',\n",
    "                    'scrapeDate': '$scrapeDate'\n",
    "                }\n",
    "            }, {\n",
    "                '$sort': {\n",
    "                    'sortkey': -1\n",
    "                }\n",
    "            },\n",
    "            {\n",
    "                '$limit': limit_nr\n",
    "            }\n",
    "        ]\n",
    "\n",
    "        pipeline[-2][\"$sort\"] = {sort_field : -1} # replace sortkey with sort_field from function input\n",
    "        \n",
    "        return pipeline"
   ]
  },
  {
   "cell_type": "markdown",
   "id": "be76f76e",
   "metadata": {},
   "source": [
    "#### Table:  Today's Trending TikToks by Play Count\n",
    "\n",
    "The table below shows the trending Tiktoks, ordered by the number of views (play count). You can click on the Play TikTok link to watch the TikTok on tiktok.com. "
   ]
  },
  {
   "cell_type": "code",
   "execution_count": null,
   "id": "811b4fd9",
   "metadata": {},
   "outputs": [],
   "source": [
    "if 'tiktok_analytics' in mode: \n",
    "    def print_tiktok_by(sort_by, asof_date, limit):\n",
    "        df_tiktoks_by_view = pd.DataFrame.from_dict(db.trending.aggregate(pipeline_trending_tiktoks_by(sort_by , asof_date, limit)))\n",
    "        if(len(df_tiktoks_by_view) > 0): \n",
    "            pd.set_option('display.max_colwidth', 30)\n",
    "            df_tiktoks_by_view[\"play_url\"] = '<div style=\"width: 170px\"><a href=\"https://www.tiktok.com/@totouchanemu/video/' + df_tiktoks_by_view[\"id\"] + '?is_from_webapp=v1\" target=\"_blank\">Play TikTok</a><div>'\n",
    "            #df_tiktoks_by_view.drop('id', axis=1, inplace=True)\n",
    "            display(HTML(df_tiktoks_by_view.to_html(escape=False)))\n",
    "        else:\n",
    "            print(\"No data for: \", asof_date)\n",
    "    \n",
    "    print_tiktok_by(\"playCount\" , date.today(), 20)"
   ]
  },
  {
   "cell_type": "markdown",
   "id": "00adff37",
   "metadata": {},
   "source": [
    "### Trending Tiktoks by Share Count\n",
    "#### Table: Today's Trending Tiktoks by Share Count\n",
    "\n",
    "Trending TikToks today by Share Count."
   ]
  },
  {
   "cell_type": "code",
   "execution_count": null,
   "id": "2c129d32",
   "metadata": {},
   "outputs": [],
   "source": [
    "if 'tiktok_analytics' in mode: \n",
    "    print_tiktok_by(\"shareCount\" , date.today(),  10)"
   ]
  },
  {
   "cell_type": "markdown",
   "id": "672a49a0",
   "metadata": {},
   "source": [
    "#### Table: Yesterday's Trending Tiktoks by Share Count\n",
    "\n",
    "Trending TikToks today by Share Count."
   ]
  },
  {
   "cell_type": "code",
   "execution_count": null,
   "id": "e26e70a0",
   "metadata": {},
   "outputs": [],
   "source": [
    "if 'tiktok_analytics' in mode: \n",
    "    yesterday = date.today() - timedelta(1)\n",
    "    print_tiktok_by(\"shareCount\" , yesterday ,  10)"
   ]
  },
  {
   "cell_type": "markdown",
   "id": "82dcdb9f",
   "metadata": {},
   "source": [
    "### Development of trending TikTok over Time\n",
    "\n",
    "#### Development of trending TikTok over Time: Functions\n"
   ]
  },
  {
   "cell_type": "code",
   "execution_count": null,
   "id": "3f131344",
   "metadata": {},
   "outputs": [],
   "source": [
    "def pipeline_trending_tiktoks_overtime(asof_date, sort_metric=\"playCount\"):\n",
    "    today_d, today_m, today_y = get_date_as_int(asof_date)\n",
    "    pipeline = [\n",
    "        {\n",
    "            '$match': {\n",
    "                '$or': [\n",
    "                \n",
    "                    {\n",
    "                        'scrapeDate': {\n",
    "                            '$gte': datetime(today_y, today_m, today_d - 7, 0, 0, 0), \n",
    "                            '$lt': datetime(today_y, today_m, (today_d + 1), 0, 0, 0),\n",
    "                        }\n",
    "                    }\n",
    "                ]\n",
    "            }\n",
    "        }, {\n",
    "            '$replaceWith': {\n",
    "                'desc': '$desc', \n",
    "                'id': '$id', \n",
    "                'commentCount': '$stats.commentCount', \n",
    "                'videoDynamicCover': '$video.dynamicCover', \n",
    "                'videoPlayAddr': '$video.dynamicCover', \n",
    "                'authorId': '$author.id', \n",
    "                'authorNickname': '$author.nickname', \n",
    "                'playCount': '$stats.playCount', \n",
    "                'shareCount': '$stats.shareCount', \n",
    "                'scrapeDate': '$scrapeDate'\n",
    "            }\n",
    "        }, {\n",
    "            '$sort': {\n",
    "                'playCount': -1, \n",
    "                'id': -1, \n",
    "                'scrapeDate': -1\n",
    "            }\n",
    "        } , \n",
    "        {\n",
    "          '$limit': 3000\n",
    "        }\n",
    "    ]\n",
    "    \n",
    "    #pipeline[-2][\"$sort\"] = {sort_field : -1} # replace sortkey with sort_field from function input\n",
    "\n",
    "    sort_dict = json.dumps(pipeline[-2][\"$sort\"])\n",
    "    sort_dict = sort_dict.replace(\"playCount\", sort_metric ) \n",
    "    sort_dict =json.loads(sort_dict)\n",
    "    pipeline[-2][\"$sort\"] = sort_dict\n",
    "    return pipeline\n",
    "\n"
   ]
  },
  {
   "cell_type": "code",
   "execution_count": null,
   "id": "0f4ec1e4",
   "metadata": {},
   "outputs": [],
   "source": [
    "def get_df_trending_tiktoks_over_time(pipeline):\n",
    "    # get date from db\n",
    "    df_trending_development = pd.DataFrame.from_dict( db.trending.aggregate(pipeline))\n",
    "\n",
    "    # trending tiktoks which appeared on more then one day\n",
    "    df_trending_ids = df_trending_development['id'].value_counts() \n",
    "    df_trending_ids = df_trending_ids[df_trending_ids > 1] # get id's which we have on multiple days\n",
    "    df_trending_development = df_trending_development[df_trending_development['id'].isin(list(df_trending_ids.index))] # filter dataset\n",
    "    df_trending_development[\"playCountMio\"] = df_trending_development[\"playCount\"] / 1000000\n",
    "    df_trending_development[\"shareCountK\"] = df_trending_development[\"shareCount\"] / 1000\n",
    "    df_trending_development[\"commentCountK\"] = df_trending_development[\"commentCount\"] / 1000\n",
    "    \n",
    "    return df_trending_development\n",
    "\n",
    "def get_single_tiktok_dataframe(df, tiktok_id):\n",
    "    df_trending_development = df #get_df_trending_tiktoks_over_time(pipeline)\n",
    "    # pick one tiktok\n",
    "    df_trending_development_single = df_trending_development[df_trending_development[\"id\"] == tiktok_id]\n",
    "\n",
    "    #normalize date for chart\n",
    "    df_trending_development_single['scrapeDate'] = df_trending_development_single['scrapeDate'].dt.normalize()\n",
    "    df_trending_development_single.reset_index(drop=True, inplace=True)\n",
    "\n",
    "    return df_trending_development_single\n",
    "\n"
   ]
  },
  {
   "cell_type": "code",
   "execution_count": null,
   "id": "5b52dd9c",
   "metadata": {},
   "outputs": [],
   "source": [
    "def plot_tiktoks_over_time(pipeline, top_x_nr_start,top_x_nr_end , metric=\"playCountMio\", id_list = False):\n",
    "    \n",
    "   #metric: playCountMio, shareCountK, commentCountK\n",
    "    \n",
    "    df_trending_tiktoks = get_df_trending_tiktoks_over_time(pipeline)\n",
    "    if(id_list):\n",
    "        #plot specific list\n",
    "        list_top_x_ids = id_list\n",
    "        \n",
    "    else: \n",
    "        \n",
    "        # plot top x id's \n",
    "        list_top_x_ids = list(df_trending_tiktoks.id.unique()[top_x_nr_start: top_x_nr_end + 1 ])\n",
    "        if((len(list_top_x_ids)) == 0):\n",
    "            print(\"Choose an other top_x_nr_start number.\")\n",
    "      \n",
    "    \n",
    "    fig,ax = plt.subplots()\n",
    "    ax.xaxis.set_major_locator(mdates.DayLocator())\n",
    "    ax.xaxis.set_major_formatter(mdates.DateFormatter('%Y %m %d'))\n",
    "\n",
    "\n",
    "    for id in list_top_x_ids:\n",
    "        df_trending_tiktok1 = get_single_tiktok_dataframe(df_trending_tiktoks, id)\n",
    "        x = df_trending_tiktok1['scrapeDate']\n",
    "        y = df_trending_tiktok1[metric]\n",
    "        if(len(df_trending_tiktok1['desc'])> 0): #check if all tiktoks have data\n",
    "            if(len(df_trending_tiktok1['desc'][0]) > 0):\n",
    "                tiktok_desc = df_trending_tiktok1['desc'][0][0:20] # check if tiktok has desc\n",
    "            else:\n",
    "                tiktok_desc = df_trending_tiktok1['id'][0]\n",
    "            plt.plot(x, y, label = \"TikTok: \" + tiktok_desc ) #  \n",
    "\n",
    "\n",
    "    plt.title(\"TikTok \" + metric + \" over Time\") \n",
    "    # show a legend on the plot\n",
    "    plt.legend()\n",
    "    # Display a figure.\n",
    "    \n",
    "    plt.ylabel(metric)\n",
    "\n",
    "\n",
    "    plt.show()\n",
    "\n"
   ]
  },
  {
   "cell_type": "markdown",
   "id": "127f1bbf",
   "metadata": {},
   "source": [
    "#### Chart: Development of trending TikTok over Time: Top 5\n",
    "\n",
    "This chart shows how the views of the top 5 TikToks have evolved. \n",
    "\n",
    "Note:\n",
    "* Only TikToks with more than 1 data point are included here\n",
    "* If the line is interrupted, we have not been able to collect data for that day\n",
    "\n",
    "Interpretation\n",
    "* The trending TikToks with the most views at this point are only slowly gaining views. In the graph bellow, this is sometimes shown as an almost flat line. It is also interesting to note that we only have data on a top trending Tiktok when views flatten out. So Tiktok shows us the top trending tiktoks very late in the hype/life cycle. \n",
    "* In order to catch a trending TikTok early, we must scrape many more tiktoks around the world using multiple scrapers with multiple users and IP locations and also start scraping the same TikTok every day again and not only the trending TikToks."
   ]
  },
  {
   "cell_type": "code",
   "execution_count": null,
   "id": "5703bf9c",
   "metadata": {},
   "outputs": [],
   "source": [
    "plot_tiktoks_over_time(pipeline_trending_tiktoks_overtime( date.today()), 0, 10, \"playCountMio\")\n"
   ]
  },
  {
   "cell_type": "markdown",
   "id": "8dba3b48",
   "metadata": {},
   "source": [
    "## Development of selected TikTok over Time\n",
    "\n",
    "### Chart: Development of selected TikTok over Time by play count\n",
    "\n",
    "Add a TikTok ID to the list: selected_tiktok_ids to see how the TikTok has evolved. This only works if we have data over several days for the respective TikTok ID."
   ]
  },
  {
   "cell_type": "code",
   "execution_count": null,
   "id": "b5541b2c",
   "metadata": {},
   "outputs": [],
   "source": [
    "selected_tiktok_ids = [\"7008948234081160453\", \"6991178928714943749\", \"7009323168288591110\", \"7016989005157895425\" ]\n",
    "plot_tiktoks_over_time(pipeline_trending_tiktoks_overtime( date.today()), 1, 2, \"playCountMio\", selected_tiktok_ids)"
   ]
  },
  {
   "cell_type": "markdown",
   "id": "8b9f947c",
   "metadata": {},
   "source": [
    "### Chart: Development of selected TikTok over Time by comment count"
   ]
  },
  {
   "cell_type": "code",
   "execution_count": null,
   "id": "35677cf1",
   "metadata": {},
   "outputs": [],
   "source": [
    "plot_tiktoks_over_time(pipeline_trending_tiktoks_overtime( date.today()), 1,1, \"commentCountK\", selected_tiktok_ids)\n"
   ]
  },
  {
   "cell_type": "markdown",
   "id": "01b6ef4d",
   "metadata": {},
   "source": [
    "### Chart: Development of selected TikTok over Time by share count\n"
   ]
  },
  {
   "cell_type": "code",
   "execution_count": null,
   "id": "88936daa",
   "metadata": {},
   "outputs": [],
   "source": [
    "plot_tiktoks_over_time(pipeline_trending_tiktoks_overtime( date.today()), 0, 4, \"shareCountK\", selected_tiktok_ids)"
   ]
  },
  {
   "cell_type": "code",
   "execution_count": null,
   "id": "02006d46",
   "metadata": {},
   "outputs": [],
   "source": []
  },
  {
   "cell_type": "markdown",
   "id": "c05ef57a",
   "metadata": {},
   "source": [
    "### Number of trending Tiktoks by Author"
   ]
  },
  {
   "cell_type": "code",
   "execution_count": null,
   "id": "e2b77b3e",
   "metadata": {},
   "outputs": [],
   "source": [
    "if 'tiktok_analytics' in mode: \n",
    "    filter_date = date.today()\n",
    "    \n",
    "    today_d, today_m, today_y = get_date_as_int(filter_date)\n",
    "    pipeline = [{\n",
    "                    '$match': {\n",
    "                        'scrapeDate': {\n",
    "                            '$gte': datetime(today_y, today_m, today_d, 0, 0, 0), \n",
    "                            '$lt': datetime(today_y, today_m, (today_d + 1), 0, 0, 0),\n",
    "                        }\n",
    "                    }\n",
    "                }, {\n",
    "                    '$project': {\n",
    "                        'id': 1, \n",
    "                        'desc': 1, \n",
    "                        'video.dynamicCover': 1, \n",
    "                        'video.playAddr': 1, \n",
    "                        'stats': 1, \n",
    "                        'author.id': 1, \n",
    "                        'author.nickname': 1\n",
    "                    }\n",
    "                }, {\n",
    "                    '$replaceWith': {\n",
    "                        'desc': '$desc', \n",
    "                        'id': '$id', \n",
    "                        'videoDynamicCover': '$video.dynamicCover', \n",
    "                        'videoPlayAddr': '$video.dynamicCover', \n",
    "                        'authorId': '$author.id', \n",
    "                        'authorNickname': '$author.nickname', \n",
    "                        'playCount': '$stats.playCount', \n",
    "                        'shareCount': '$stats.shareCount', \n",
    "                        'commentCount': '$stats.commentCount'\n",
    "                    }\n",
    "                }, {\n",
    "                    '$group': {\n",
    "                        '_id': {\n",
    "                            'authorId': '$authorId', \n",
    "                            'authorNickname': '$authorNickname'\n",
    "                        }, \n",
    "                        'count': {\n",
    "                            '$sum': 1\n",
    "                        }\n",
    "                    }\n",
    "                }, {\n",
    "                    '$sort': {\n",
    "                        'count': -1\n",
    "                    }\n",
    "                }, {\n",
    "                    '$replaceWith': {\n",
    "                        'authorId': '$_id.authorId', \n",
    "                        'authorNickname': '$_id.authorNickname', \n",
    "                        'count': '$count'\n",
    "                    }\n",
    "                }, {\n",
    "                    '$limit': 30\n",
    "                }\n",
    "            ]"
   ]
  },
  {
   "cell_type": "markdown",
   "id": "ce908079",
   "metadata": {},
   "source": [
    "#### Barchart: Number of trending Tiktoks by Author (today)\n",
    "\n",
    "TikTokers (user) with most TikToks (posts) in trending TikToks."
   ]
  },
  {
   "cell_type": "code",
   "execution_count": null,
   "id": "c42aa1c5",
   "metadata": {},
   "outputs": [],
   "source": [
    "if 'tiktok_analytics' in mode: \n",
    "\n",
    "    df_tiktoks_by_tiktoker = pd.DataFrame.from_dict( db.trending.aggregate(pipeline))\n",
    "    if len(df_tiktoks_by_tiktoker) > 0:\n",
    "        plt.figure();\n",
    "        plt.rcParams['figure.figsize'] = [15, 5]\n",
    "\n",
    "        df_tiktoks_by_tiktoker.iloc[0:30].plot(title=\"Number of trending TikToks by Author as of \" + str(today_d) + \".\" + str(today_m) + \".\"+ str(today_y) , kind=\"bar\" , x='authorNickname');\n",
    "        plt.axhline(0, color=\"k\");"
   ]
  },
  {
   "cell_type": "markdown",
   "id": "2e035309",
   "metadata": {},
   "source": [
    "#### Table: Number of trending Tiktoks by Author (today)\n",
    "TikTokers (user) with most TikToks (posts) in trending TikToks."
   ]
  },
  {
   "cell_type": "code",
   "execution_count": null,
   "id": "be2c5e87",
   "metadata": {},
   "outputs": [],
   "source": [
    "if 'tiktok_analytics' in mode: \n",
    "    if 'authorId' in df_tiktoks_by_tiktoker.columns:\n",
    "        df_tiktoks_by_tiktoker[\"profileUrl\"] = '<div style=\"width: 200px\"><a href=\"https://www.tiktok.com/@' + df_tiktoks_by_tiktoker[\"authorId\"] + '?is_from_webapp=v1\" target=\"_blank\">TikTok Profile: ' +  df_tiktoks_by_tiktoker[\"authorNickname\"] + ' </a><div>'\n",
    "        df_tiktoks_by_tiktoker.drop('authorId', axis=1, inplace=True)\n",
    "        pass\n",
    "\n",
    "    display(HTML(df_tiktoks_by_tiktoker.head(10).to_html(escape=False)))\n",
    "    "
   ]
  },
  {
   "cell_type": "markdown",
   "id": "2d7c9fac",
   "metadata": {},
   "source": [
    "### Trending Music used in TikToks\n"
   ]
  },
  {
   "cell_type": "code",
   "execution_count": null,
   "id": "032a2073",
   "metadata": {},
   "outputs": [],
   "source": [
    "pipeline = [\n",
    "    {\n",
    "        '$match': {\n",
    "            'music.original': False\n",
    "        }\n",
    "    }, {\n",
    "        '$replaceWith': {\n",
    "            'id': '$id', \n",
    "            'music_title': '$music.title', \n",
    "            'music_id': '$music.id', \n",
    "            'music_cover': '$music.coverMedium', \n",
    "            'music_author_name': '$music.authorName', \n",
    "            'shareCount': '$stats.shareCount', \n",
    "            'commentCount': '$stats.commentCount', \n",
    "            'playCount': '$stats.playCount'\n",
    "        }\n",
    "    }, {\n",
    "        '$group': {\n",
    "            '_id': {\n",
    "                'music_id': '$music_id', \n",
    "                'music_title': '$music_title', \n",
    "                'music_cover': '$music_cover',\n",
    "                'music_author_name': '$music_author_name', \n",
    "            }, \n",
    "            'count': {\n",
    "                '$sum': 1\n",
    "            }\n",
    "        }\n",
    "    }, {\n",
    "        '$sort': {\n",
    "            'count': -1\n",
    "        }\n",
    "    }, {\n",
    "        '$replaceWith': {\n",
    "            'music_title': '$_id.music_id', \n",
    "            'music_title': '$_id.music_title', \n",
    "            'music_cover': '$_id.music_cover', \n",
    "            'music_author_name': '$_id.music_author_name',\n",
    "            'count': '$count'\n",
    "        }\n",
    "    },{\n",
    "            '$limit': 10\n",
    "    }\n",
    "]\n",
    "\n",
    "df_trending_music = pd.DataFrame.from_dict( db.trending.aggregate(pipeline))\n",
    "\n"
   ]
  },
  {
   "cell_type": "markdown",
   "id": "4fc29989",
   "metadata": {},
   "source": [
    "#### Table: Trending Music used in TikToks\n",
    "\n",
    "In this part we analyze how often a music title is used in a trending TikTok.\n",
    "About 50% of all TikToks use voice recordings or mix music with voice recordings. These TikToks are classified as \"original sound\" for which we don't get data about the music title. Hence, in this part, we only analyze the TikToks without original sound."
   ]
  },
  {
   "cell_type": "code",
   "execution_count": null,
   "id": "e46395d4",
   "metadata": {},
   "outputs": [],
   "source": [
    "df_trending_music[\"music_cover_html\"] = '<img src=\"' + df_trending_music[\"music_cover\"] +'\" style=\"width:80;height:80px;\" >'\n",
    "df_trending_music.drop('music_cover', axis=1, inplace=True)\n",
    "display(HTML(df_trending_music.head(10).to_html(escape=False)))"
   ]
  },
  {
   "cell_type": "markdown",
   "id": "9c3b1897",
   "metadata": {},
   "source": [
    "## Top TikTokers (Worldwide)\n",
    "### Top TikTokers by followers"
   ]
  },
  {
   "cell_type": "code",
   "execution_count": null,
   "id": "2bd92c87",
   "metadata": {},
   "outputs": [],
   "source": [
    "if 'tiktok_analytics' in mode: \n",
    "    pipeline = [\n",
    "        {\n",
    "            '$replaceWith': {\n",
    "                'username': '$basic.username', \n",
    "                'userId': '$basic.social_id', \n",
    "                'avatar_url': '$basic.avatar_url', \n",
    "                'followers': '$metrics.subscribers_count.value', \n",
    "                'country': '$features.blogger_geo.data.country'\n",
    "            }\n",
    "        }, {\n",
    "            '$sort': {\n",
    "                'followers': -1\n",
    "            }\n",
    "        }, {\n",
    "             '$limit': 25\n",
    "        }\n",
    "    ]\n",
    "\n",
    "    df_worldwide_toptiktokers = pd.DataFrame.from_dict( db.hypeauditor_toptiktoker.aggregate(pipeline))\n",
    "    df_worldwide_toptiktokers['country'] = df_worldwide_toptiktokers['country'].fillna(\"unknown\")\n",
    "   \n",
    "    df_worldwide_toptiktokers[\"avatar_url_img\"] = '<img src=\"' + df_worldwide_toptiktokers[\"avatar_url\"] +'\" style=\"width:80;height:80px;\" >'\n",
    "    df_worldwide_toptiktokers[\"profileLink\"] = '<div style=\"width: 200px\"><a href=\"https://www.tiktok.com/@' + df_worldwide_toptiktokers[\"userId\"] + '?is_from_webapp=v1\" target=\"_blank\"> TikTok Profile: ' +  df_worldwide_toptiktokers[\"username\"] + ' </a><div>'\n",
    "    if 'userId' in df_worldwide_toptiktokers.columns:\n",
    "        df_worldwide_toptiktokers.drop('userId', axis=1, inplace=True)\n",
    "        df_worldwide_toptiktokers.drop('avatar_url', axis=1, inplace=True)\n",
    "        \n",
    "\n"
   ]
  },
  {
   "cell_type": "markdown",
   "id": "2a000143",
   "metadata": {},
   "source": [
    "#### Table: Top Tiktokers by followers"
   ]
  },
  {
   "cell_type": "code",
   "execution_count": null,
   "id": "055bc4dd",
   "metadata": {
    "scrolled": true
   },
   "outputs": [],
   "source": [
    "if 'tiktok_analytics' in mode: \n",
    "    display(HTML(df_worldwide_toptiktokers.head(10).to_html(escape=False)))"
   ]
  },
  {
   "cell_type": "markdown",
   "id": "02fb0c20",
   "metadata": {},
   "source": [
    "### Number of Top 1000 TikTokers by country\n",
    "From which countries are the top 1000 TikTokers from? "
   ]
  },
  {
   "cell_type": "code",
   "execution_count": null,
   "id": "6d30455a",
   "metadata": {},
   "outputs": [],
   "source": [
    "if 'tiktok_analytics' in mode: \n",
    "    pipeline = [\n",
    "        {\n",
    "            '$replaceWith': {\n",
    "                'username': '$basic.username', \n",
    "                'userId': '$basic.social_id', \n",
    "                'avatar_url': '$basic.avatar_url', \n",
    "                'followers': '$metrics.subscribers_count.value', \n",
    "                'country': '$features.blogger_geo.data.country'\n",
    "            }\n",
    "        }, {\n",
    "            '$sort': {\n",
    "                'followers': -1\n",
    "            }\n",
    "        }, {\n",
    "            '$group': {\n",
    "                '_id': '$country', \n",
    "                'count': {\n",
    "                    '$sum': 1\n",
    "                }\n",
    "            }\n",
    "        }, {\n",
    "            '$match': {\n",
    "                '_id': {\n",
    "                    '$exists': True, \n",
    "                    '$ne': None\n",
    "                }\n",
    "            }\n",
    "        }, {\n",
    "            '$sort': {\n",
    "                'count': -1\n",
    "            }\n",
    "        }\n",
    "    ]\n",
    "    \n",
    "    df_worldwide_toptiktokers_by_country_agg = pd.DataFrame.from_dict( db.hypeauditor_toptiktoker.aggregate(pipeline))\n",
    "    df_worldwide_toptiktokers_by_country_agg\n",
    "\n",
    "    \n"
   ]
  },
  {
   "cell_type": "markdown",
   "id": "bf8358ec",
   "metadata": {},
   "source": [
    "### Barchart: Number of Top 1000 TikTokers by country\n",
    "\n",
    "Most of the top 1000 TikTokers (by followers count) are from the US. "
   ]
  },
  {
   "cell_type": "code",
   "execution_count": null,
   "id": "86218e2f",
   "metadata": {},
   "outputs": [],
   "source": [
    "if 'tiktok_analytics' in mode: \n",
    "    plt.figure();\n",
    "    plt.rcParams['figure.figsize'] = [15, 5]\n",
    "\n",
    "    df_worldwide_toptiktokers_by_country_agg.iloc[0:30].plot(title=\"Number of Top 1000 TikToks by Country\" , kind=\"bar\" , x='_id');\n",
    "    plt.axhline(0, color=\"k\");"
   ]
  },
  {
   "cell_type": "markdown",
   "id": "5c0700bc",
   "metadata": {},
   "source": [
    "# Conclusion and Outlook\n",
    "\n"
   ]
  },
  {
   "cell_type": "markdown",
   "id": "b1bdbb70",
   "metadata": {},
   "source": [
    "This analysis gives us a first insight into the world of Tiktoks and summarizes what is trending right now. However, to get deeper insights and identify trends early, we need to scrape many more Tiktoks around the world, using multiple scrapers with multiple users and IP locations, and also scrape the same TikToks every day. With this information, we could analyze what makes a Tiktok go viral/trending. \n",
    "\n",
    "\n",
    "About 50% of all TikToks use voice recordings or mix music with voice recordings. These TikToks are classified as \"original sound\" for which we don't get data about the music title. AI could be used to identify this music and collect more data about the trending music titles.\n",
    "\n",
    "\n",
    "Depending on the target audience of this tool, different information could be interesting:\n",
    "* An influencer or a company with its own presence on TikTok, could learn how to create a trending Tiktok and better build an audience.\n",
    "* Marketers trying to sell a product could try to understand Gen Z's sense of humor and values to craft ads better suited to them.\n",
    "* Marketers and product managers could try to use this tool to better understand Generation Z and incorporate the insights into their products and services.\n",
    "\n"
   ]
  },
  {
   "cell_type": "markdown",
   "id": "b27df859",
   "metadata": {},
   "source": [
    "# Remarks\n",
    "## Learnings\n"
   ]
  },
  {
   "cell_type": "code",
   "execution_count": null,
   "id": "c01d32c6",
   "metadata": {},
   "outputs": [],
   "source": []
  }
 ],
 "metadata": {
  "kernelspec": {
   "display_name": "Python 3 (ipykernel)",
   "language": "python",
   "name": "python3"
  },
  "language_info": {
   "codemirror_mode": {
    "name": "ipython",
    "version": 3
   },
   "file_extension": ".py",
   "mimetype": "text/x-python",
   "name": "python",
   "nbconvert_exporter": "python",
   "pygments_lexer": "ipython3",
   "version": "3.7.11"
  },
  "toc": {
   "base_numbering": 1,
   "nav_menu": {
    "height": "594px",
    "width": "645px"
   },
   "number_sections": true,
   "sideBar": true,
   "skip_h1_title": false,
   "title_cell": "Table of Contents",
   "title_sidebar": "Contents",
   "toc_cell": false,
   "toc_position": {
    "height": "calc(100% - 180px)",
    "left": "10px",
    "top": "150px",
    "width": "524.594px"
   },
   "toc_section_display": true,
   "toc_window_display": true
  }
 },
 "nbformat": 4,
 "nbformat_minor": 5
}
